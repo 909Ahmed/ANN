{
 "cells": [
  {
   "cell_type": "code",
   "execution_count": 1,
   "metadata": {},
   "outputs": [],
   "source": [
    "from cheras.Model.model import Model\n",
    "from cheras.Layers.Dense import Dense\n",
    "from cheras.Layers.Input import Input\n",
    "from cheras.Layers.Dropout import Dropout\n",
    "import numpy as np\n",
    "import pandas as pd"
   ]
  },
  {
   "cell_type": "code",
   "execution_count": 1,
   "metadata": {},
   "outputs": [],
   "source": [
    "import torch"
   ]
  },
  {
   "cell_type": "code",
   "execution_count": 2,
   "metadata": {},
   "outputs": [],
   "source": [
    "train = pd.read_csv('./data/mnist_train.csv')\n",
    "test = pd.read_csv('./data/mnist_test.csv')\n",
    "\n",
    "X_train = train.iloc[:,1:]\n",
    "X_test = test.iloc[:,1:]\n",
    "\n",
    "Y_train = train.iloc[:,0]\n",
    "Y_test = test.iloc[:,0]\n",
    "\n",
    "X_train = np.array(X_train)\n",
    "X_train = X_train.reshape (-1, 784)\n",
    "X_train = X_train / 255\n",
    "\n",
    "X_test = np.array(X_test)\n",
    "X_test = X_test.reshape (-1, 784)\n",
    "X_test = X_test / 255"
   ]
  },
  {
   "cell_type": "code",
   "execution_count": 3,
   "metadata": {},
   "outputs": [],
   "source": [
    "def get_model():\n",
    "\n",
    "    i = Input(784)\n",
    "    x = Dense(64, 'sigmoid', i)\n",
    "    x = Dropout(0.2, x)\n",
    "    x = Dense(64, 'sigmoid', x)\n",
    "    x = Dropout(0.2, x)\n",
    "    x = Dense(10, 'sigmoid', x)\n",
    "\n",
    "    model = Model (i, x)\n",
    "    return model"
   ]
  },
  {
   "cell_type": "code",
   "execution_count": 5,
   "metadata": {},
   "outputs": [],
   "source": [
    "model = get_model()\n",
    "model.optimize(0.001, 0.9, 0.999)"
   ]
  },
  {
   "cell_type": "code",
   "execution_count": 6,
   "metadata": {},
   "outputs": [
    {
     "ename": "TypeError",
     "evalue": "'int' object is not iterable",
     "output_type": "error",
     "traceback": [
      "\u001b[1;31m---------------------------------------------------------------------------\u001b[0m",
      "\u001b[1;31mTypeError\u001b[0m                                 Traceback (most recent call last)",
      "\u001b[1;32mc:\\Code\\ANN\\test.ipynb Cell 6\u001b[0m line \u001b[0;36m1\n\u001b[1;32m----> <a href='vscode-notebook-cell:/c%3A/Code/ANN/test.ipynb#W5sZmlsZQ%3D%3D?line=0'>1</a>\u001b[0m model\u001b[39m.\u001b[39;49mfit(X_train, Y_train, X_test, Y_test, \u001b[39m5\u001b[39;49m, \u001b[39m32\u001b[39;49m)\n",
      "File \u001b[1;32mc:\\Code\\ANN\\cheras\\Model\\model.py:89\u001b[0m, in \u001b[0;36mModel.fit\u001b[1;34m(self, X, Y, X_valid, Y_valid, epochs, batch_size)\u001b[0m\n\u001b[0;32m     86\u001b[0m y \u001b[39m=\u001b[39m Y[batch_size \u001b[39m*\u001b[39m batch: batch_size \u001b[39m*\u001b[39m (batch\u001b[39m+\u001b[39m\u001b[39m1\u001b[39m)]\n\u001b[0;32m     88\u001b[0m activations, zlist \u001b[39m=\u001b[39m \u001b[39mself\u001b[39m\u001b[39m.\u001b[39mforward_pass(x, \u001b[39mTrue\u001b[39;00m)\n\u001b[1;32m---> 89\u001b[0m del_wb, del_bb \u001b[39m=\u001b[39m \u001b[39mself\u001b[39m\u001b[39m.\u001b[39mbackward_pass(activations, zlist, get_embed(y, \u001b[39mself\u001b[39;49m\u001b[39m.\u001b[39;49moutput_layer\u001b[39m.\u001b[39;49msize))\n\u001b[0;32m     91\u001b[0m \u001b[39mself\u001b[39m\u001b[39m.\u001b[39mupdate_weights(del_wb, batch_size \u001b[39m*\u001b[39m epoch \u001b[39m+\u001b[39m batch)\n\u001b[0;32m     92\u001b[0m \u001b[39mself\u001b[39m\u001b[39m.\u001b[39mupdate_bias(del_bb, batch_size \u001b[39m*\u001b[39m epoch \u001b[39m+\u001b[39m batch)\n",
      "File \u001b[1;32mc:\\Code\\ANN\\cheras\\Func\\misc.py:15\u001b[0m, in \u001b[0;36mget_embed\u001b[1;34m(logits, size)\u001b[0m\n\u001b[0;32m     12\u001b[0m \u001b[39mdef\u001b[39;00m \u001b[39mget_embed\u001b[39m (logits, size):\n\u001b[0;32m     13\u001b[0m     temp \u001b[39m=\u001b[39m [[\u001b[39m0\u001b[39m] \u001b[39m*\u001b[39m size] \u001b[39m*\u001b[39m \u001b[39mlen\u001b[39m(logits)\n\u001b[1;32m---> 15\u001b[0m     \u001b[39mfor\u001b[39;49;00m index \u001b[39min\u001b[39;49;00m \u001b[39mlen\u001b[39;49m(logits):\n\u001b[0;32m     17\u001b[0m         temp[index][logits[index]] \u001b[39m=\u001b[39;49m \u001b[39m1\u001b[39;49m\n\u001b[0;32m     19\u001b[0m     \u001b[39mreturn\u001b[39;00m temp\n",
      "\u001b[1;31mTypeError\u001b[0m: 'int' object is not iterable"
     ]
    }
   ],
   "source": [
    "model.fit(X_train, Y_train, X_test, Y_test, 5, 32)"
   ]
  },
  {
   "cell_type": "code",
   "execution_count": null,
   "metadata": {},
   "outputs": [],
   "source": []
  }
 ],
 "metadata": {
  "kernelspec": {
   "display_name": "Python 3",
   "language": "python",
   "name": "python3"
  },
  "language_info": {
   "codemirror_mode": {
    "name": "ipython",
    "version": 3
   },
   "file_extension": ".py",
   "mimetype": "text/x-python",
   "name": "python",
   "nbconvert_exporter": "python",
   "pygments_lexer": "ipython3",
   "version": "3.11.7"
  }
 },
 "nbformat": 4,
 "nbformat_minor": 2
}
