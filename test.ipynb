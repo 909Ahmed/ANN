{
 "cells": [
  {
   "cell_type": "code",
   "execution_count": 17,
   "metadata": {},
   "outputs": [],
   "source": [
    "from cheras.Model.model import Model\n",
    "from cheras.Layers.Dense import Dense\n",
    "from cheras.Layers.Input import Input\n",
    "import numpy as np\n",
    "import pandas as pd"
   ]
  },
  {
   "cell_type": "code",
   "execution_count": 18,
   "metadata": {},
   "outputs": [],
   "source": [
    "train = pd.read_csv('./data/mnist_train.csv')\n",
    "test = pd.read_csv('./data/mnist_test.csv')\n",
    "\n",
    "X_train = train.iloc[:,1:]\n",
    "X_test = test.iloc[:,1:]\n",
    "\n",
    "Y_train = train.iloc[:,0]\n",
    "Y_test = test.iloc[:,0]\n",
    "\n",
    "X_train = np.array(X_train)\n",
    "X_train = X_train.reshape (-1, 784)\n",
    "X_train = X_train / 255\n",
    "\n",
    "X_test = np.array(X_test)\n",
    "X_test = X_test.reshape (-1, 784)\n",
    "X_test = X_test / 255"
   ]
  },
  {
   "cell_type": "code",
   "execution_count": 19,
   "metadata": {},
   "outputs": [],
   "source": [
    "def get_model():\n",
    "\n",
    "    i = Input(784)\n",
    "    x = Dense(64, 'sigmoid', i)\n",
    "    x = Dense(64, 'sigmoid', x)\n",
    "    x = Dense(10, 'sigmoid', x)\n",
    "\n",
    "    model = Model (i, x)\n",
    "    return model"
   ]
  },
  {
   "cell_type": "code",
   "execution_count": null,
   "metadata": {},
   "outputs": [],
   "source": [
    "model = get_model()\n",
    "model.optimize(0.001, 0.9, 0.999)\n",
    "model.fit(X_train, Y_train, X_test, Y_test, 20, 32)"
   ]
  }
 ],
 "metadata": {
  "kernelspec": {
   "display_name": "Python 3",
   "language": "python",
   "name": "python3"
  },
  "language_info": {
   "codemirror_mode": {
    "name": "ipython",
    "version": 3
   },
   "file_extension": ".py",
   "mimetype": "text/x-python",
   "name": "python",
   "nbconvert_exporter": "python",
   "pygments_lexer": "ipython3",
   "version": "3.11.7"
  }
 },
 "nbformat": 4,
 "nbformat_minor": 2
}
