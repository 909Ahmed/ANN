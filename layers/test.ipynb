{
 "cells": [
  {
   "cell_type": "code",
   "execution_count": 10,
   "metadata": {},
   "outputs": [],
   "source": [
    "from model import Model\n",
    "from layers import Layer\n",
    "from Input import Input\n",
    "from tensorflow.keras.datasets import mnist\n",
    "import numpy as np"
   ]
  },
  {
   "cell_type": "code",
   "execution_count": 11,
   "metadata": {},
   "outputs": [],
   "source": [
    "(X_train, Y_train), (X_test, Y_test) = mnist.load_data()"
   ]
  },
  {
   "cell_type": "code",
   "execution_count": 12,
   "metadata": {},
   "outputs": [
    {
     "ename": "TypeError",
     "evalue": "Model.fit() takes 5 positional arguments but 7 were given",
     "output_type": "error",
     "traceback": [
      "\u001b[1;31m---------------------------------------------------------------------------\u001b[0m",
      "\u001b[1;31mTypeError\u001b[0m                                 Traceback (most recent call last)",
      "\u001b[1;32mc:\\Code\\ANN\\layers\\test.ipynb Cell 3\u001b[0m line \u001b[0;36m1\n\u001b[0;32m     <a href='vscode-notebook-cell:/c%3A/Code/ANN/layers/test.ipynb#W6sZmlsZQ%3D%3D?line=12'>13</a>\u001b[0m X_test \u001b[39m=\u001b[39m X_test\u001b[39m.\u001b[39mreshape (\u001b[39m-\u001b[39m\u001b[39m1\u001b[39m, \u001b[39m784\u001b[39m)\n\u001b[0;32m     <a href='vscode-notebook-cell:/c%3A/Code/ANN/layers/test.ipynb#W6sZmlsZQ%3D%3D?line=13'>14</a>\u001b[0m X_test \u001b[39m=\u001b[39m X_test \u001b[39m/\u001b[39m \u001b[39m255\u001b[39m\n\u001b[1;32m---> <a href='vscode-notebook-cell:/c%3A/Code/ANN/layers/test.ipynb#W6sZmlsZQ%3D%3D?line=15'>16</a>\u001b[0m model\u001b[39m.\u001b[39;49mfit(X_train, Y_train, X_test, Y_test, \u001b[39m50\u001b[39;49m, \u001b[39m32\u001b[39;49m)\n",
      "\u001b[1;31mTypeError\u001b[0m: Model.fit() takes 5 positional arguments but 7 were given"
     ]
    }
   ],
   "source": [
    "a = Input(784)\n",
    "b = Layer(64, 'sigmoid', a)\n",
    "c = Layer(64, 'sigmoid', b)\n",
    "y = Layer(10, 'sigmoid', c)\n",
    "\n",
    "model = Model (a, y)\n",
    "\n",
    "X_train = np.array(X_train)\n",
    "X_train = X_train.reshape (-1, 784)\n",
    "X_train = X_train / 255\n",
    "\n",
    "X_test = np.array(X_test)\n",
    "X_test = X_test.reshape (-1, 784)\n",
    "X_test = X_test / 255\n",
    "\n",
    "model.fit(X_train, Y_train, X_test, Y_test, 50, 32)"
   ]
  }
 ],
 "metadata": {
  "kernelspec": {
   "display_name": "Python 3",
   "language": "python",
   "name": "python3"
  },
  "language_info": {
   "codemirror_mode": {
    "name": "ipython",
    "version": 3
   },
   "file_extension": ".py",
   "mimetype": "text/x-python",
   "name": "python",
   "nbconvert_exporter": "python",
   "pygments_lexer": "ipython3",
   "version": "3.11.7"
  }
 },
 "nbformat": 4,
 "nbformat_minor": 2
}
