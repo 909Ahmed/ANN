{
 "cells": [
  {
   "cell_type": "code",
   "execution_count": 1,
   "metadata": {},
   "outputs": [
    {
     "name": "stdout",
     "output_type": "stream",
     "text": [
      "WARNING:tensorflow:From C:\\Users\\ahmed\\AppData\\Local\\Packages\\PythonSoftwareFoundation.Python.3.11_qbz5n2kfra8p0\\LocalCache\\local-packages\\Python311\\site-packages\\keras\\src\\losses.py:2976: The name tf.losses.sparse_softmax_cross_entropy is deprecated. Please use tf.compat.v1.losses.sparse_softmax_cross_entropy instead.\n",
      "\n"
     ]
    }
   ],
   "source": [
    "from model import Model\n",
    "from layers import Layer\n",
    "from Input import Input\n",
    "from tensorflow.keras.datasets import mnist\n",
    "import numpy as np"
   ]
  },
  {
   "cell_type": "code",
   "execution_count": 2,
   "metadata": {},
   "outputs": [],
   "source": [
    "(X_train, Y_train), (X_test, y_test) = mnist.load_data()"
   ]
  },
  {
   "cell_type": "code",
   "execution_count": 3,
   "metadata": {},
   "outputs": [],
   "source": [
    "a = Input(784)\n",
    "b = Layer(64, 'sigmoid', a)\n",
    "c = Layer(64, 'sigmoid', b)\n",
    "y = Layer(10, 'sigmoid', c)\n",
    "\n",
    "model = Model (a, y)"
   ]
  },
  {
   "cell_type": "code",
   "execution_count": 4,
   "metadata": {},
   "outputs": [],
   "source": [
    "X_train = np.array(X_train)\n",
    "X_train = X_train.reshape (-1, 784)"
   ]
  },
  {
   "cell_type": "code",
   "execution_count": 5,
   "metadata": {},
   "outputs": [],
   "source": [
    "X_train = np.array(X_train)\n",
    "X_train = X_train.reshape (-1, 784)"
   ]
  },
  {
   "cell_type": "code",
   "execution_count": 6,
   "metadata": {},
   "outputs": [
    {
     "ename": "ValueError",
     "evalue": "not enough values to unpack (expected 2, got 0)",
     "output_type": "error",
     "traceback": [
      "\u001b[1;31m---------------------------------------------------------------------------\u001b[0m",
      "\u001b[1;31mValueError\u001b[0m                                Traceback (most recent call last)",
      "\u001b[1;32mc:\\Code\\ANN\\layers\\test.ipynb Cell 6\u001b[0m line \u001b[0;36m2\n\u001b[0;32m      <a href='vscode-notebook-cell:/c%3A/Code/ANN/layers/test.ipynb#W5sZmlsZQ%3D%3D?line=0'>1</a>\u001b[0m X_train \u001b[39m=\u001b[39m X_train \u001b[39m/\u001b[39m \u001b[39m255\u001b[39m\n\u001b[1;32m----> <a href='vscode-notebook-cell:/c%3A/Code/ANN/layers/test.ipynb#W5sZmlsZQ%3D%3D?line=1'>2</a>\u001b[0m model\u001b[39m.\u001b[39;49mfit(X_train[:\u001b[39m10000\u001b[39;49m], Y_train[:\u001b[39m10000\u001b[39;49m], \u001b[39m20\u001b[39;49m, \u001b[39m32\u001b[39;49m)\n",
      "File \u001b[1;32mc:\\Code\\ANN\\layers\\model.py:69\u001b[0m, in \u001b[0;36mModel.fit\u001b[1;34m(self, X, Y, epochs, batch_size)\u001b[0m\n\u001b[0;32m     65\u001b[0m count \u001b[39m=\u001b[39m \u001b[39m0\u001b[39m\n\u001b[0;32m     67\u001b[0m \u001b[39mfor\u001b[39;00m i \u001b[39min\u001b[39;00m \u001b[39mrange\u001b[39m(\u001b[39mlen\u001b[39m(X) \u001b[39m/\u001b[39m\u001b[39m/\u001b[39m batch_size \u001b[39m-\u001b[39m \u001b[39m1\u001b[39m):\n\u001b[1;32m---> 69\u001b[0m     del_w, del_b \u001b[39m=\u001b[39m []\n\u001b[0;32m     71\u001b[0m     \u001b[39mfor\u001b[39;00m x, y \u001b[39min\u001b[39;00m \u001b[39mzip\u001b[39m(X[batch_size \u001b[39m*\u001b[39m i: batch_size \u001b[39m*\u001b[39m (i\u001b[39m+\u001b[39m\u001b[39m1\u001b[39m)], Y[batch_size \u001b[39m*\u001b[39m i: batch_size \u001b[39m*\u001b[39m (i\u001b[39m+\u001b[39m\u001b[39m1\u001b[39m)]):\n\u001b[0;32m     73\u001b[0m         activations, zlist \u001b[39m=\u001b[39m \u001b[39mself\u001b[39m\u001b[39m.\u001b[39mforward_pass(x)\n",
      "\u001b[1;31mValueError\u001b[0m: not enough values to unpack (expected 2, got 0)"
     ]
    }
   ],
   "source": [
    "X_train = X_train / 255\n",
    "model.fit(X_train[:10000], Y_train[:10000], 20, 32)"
   ]
  }
 ],
 "metadata": {
  "kernelspec": {
   "display_name": "Python 3",
   "language": "python",
   "name": "python3"
  },
  "language_info": {
   "codemirror_mode": {
    "name": "ipython",
    "version": 3
   },
   "file_extension": ".py",
   "mimetype": "text/x-python",
   "name": "python",
   "nbconvert_exporter": "python",
   "pygments_lexer": "ipython3",
   "version": "3.11.7"
  }
 },
 "nbformat": 4,
 "nbformat_minor": 2
}
